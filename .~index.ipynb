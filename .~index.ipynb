{
 "cells": [
  {
   "cell_type": "markdown",
   "metadata": {},
   "source": [
    "# List and String Review\n",
    "Below we review a few list methods and programming patterns. This will be a foundational skill that you will use nearly everywhere in your coding practice."
   ]
  },
  {
   "cell_type": "markdown",
   "metadata": {},
   "source": [
    "## The Pickle Module\n",
    "\n",
    "To see a more detailed list to work with, we're going to import the pickle module. This module lets you save pretty much any python object whether its a function, class, or piece of data. (We've previously seen how to import spreadsheet data with Pandas.)"
   ]
  },
  {
   "cell_type": "code",
   "execution_count": 1,
   "metadata": {},
   "outputs": [],
   "source": [
    "import pickle"
   ]
  },
  {
   "cell_type": "code",
   "execution_count": 2,
   "metadata": {},
   "outputs": [],
   "source": [
    "#Open the file where stuff is stored (this is similar to python's built in method)\n",
    "pkl_file = open('names.pkl', 'rb')\n",
    "#Use pickles load method\n",
    "names = pickle.load(pkl_file)\n",
    "#Close the file you are done working with.\n",
    "pkl_file.close()"
   ]
  },
  {
   "cell_type": "markdown",
   "metadata": {},
   "source": [
    "## Previewing Data\n",
    "Remember we can print the length of many objects, and we can use slices to preview the first few items:"
   ]
  },
  {
   "cell_type": "code",
   "execution_count": 3,
   "metadata": {},
   "outputs": [
    {
     "name": "stdout",
     "output_type": "stream",
     "text": [
      "100\n",
      "['Joseph Owens ', 'Lamar Webster  ', ' Lester Garner ', ' Yvonne Perkins   ', 'Theodore Byrd', 'Billy Wallace   ', 'Jeremiah Burns   ', 'Heather Bridges', 'Shannon Ramirez', ' Jermaine Gibson']\n"
     ]
    }
   ],
   "source": [
    "print(len(names))\n",
    "print(names[:10])"
   ]
  },
  {
   "cell_type": "markdown",
   "metadata": {},
   "source": [
    "## Slicing and Iterating through Lists\n",
    "Recall that we can also iterate through a list if we want to check some condition or perform some operation."
   ]
  },
  {
   "cell_type": "code",
   "execution_count": 4,
   "metadata": {},
   "outputs": [
    {
     "name": "stdout",
     "output_type": "stream",
     "text": [
      "Joseph Owens \n",
      "Lamar Webster  \n",
      " Lester Garner \n",
      " Yvonne Perkins   \n",
      "Theodore Byrd\n"
     ]
    }
   ],
   "source": [
    "#Iterate through the first 5 elements (indexed 0 through 4) of the list\n",
    "for name in names[:5]:\n",
    "    print(name)"
   ]
  },
  {
   "cell_type": "code",
   "execution_count": 5,
   "metadata": {},
   "outputs": [
    {
     "name": "stdout",
     "output_type": "stream",
     "text": [
      "This name starts with M!\n",
      "Mabel Fleming \n",
      "\n",
      "\n",
      "This name starts with M!\n",
      "Marcia Griffin\n",
      "\n",
      "\n",
      "This name starts with M!\n",
      "Meredith Bowen\n",
      "\n",
      "\n",
      "This name starts with M!\n",
      "Mona Estrada\n",
      "\n",
      "\n",
      "This name starts with M!\n",
      "Maryann Armstrong\n",
      "\n",
      "\n"
     ]
    }
   ],
   "source": [
    "#A more complicated example with a conditional and a string slice\n",
    "\n",
    "#Iterate throught the entire list\n",
    "for name in names:\n",
    "    #Slice the current string and perform  a conditional on the 0th indexed character\n",
    "    if name[0] == 'M':\n",
    "        print('This name starts with M!')\n",
    "        print(name)\n",
    "        print('\\n')"
   ]
  },
  {
   "cell_type": "markdown",
   "metadata": {},
   "source": [
    "## List Comprehensions\n",
    "We've briefly seen some examples of list comprehensions such as:  \n",
    "` df.columns = [col.strip() for col in df.columns]`. \n",
    "This can often be a handy way to quickly encapsulate an idea that requires a for loop. In the example above, we iterate through df.columns and strip any leading/trailing whitespace from the column name. We then reassign this new list (with whitespace removed) back to df.columns."
   ]
  },
  {
   "cell_type": "code",
   "execution_count": 6,
   "metadata": {},
   "outputs": [
    {
     "data": {
      "text/plain": [
       "['Mabel Fleming ',\n",
       " 'Marcia Griffin',\n",
       " 'Meredith Bowen',\n",
       " 'Mona Estrada',\n",
       " 'Maryann Armstrong']"
      ]
     },
     "execution_count": 6,
     "metadata": {},
     "output_type": "execute_result"
    }
   ],
   "source": [
    "#Similar to the second example above\n",
    "[name for name in names if name[0]=='M']"
   ]
  },
  {
   "cell_type": "markdown",
   "metadata": {},
   "source": [
    "## Cleaning and Transforming Data\n",
    "You might notice that some of our names are poorly formated. Specifically, many of the names have some extra whitespace."
   ]
  },
  {
   "cell_type": "code",
   "execution_count": 7,
   "metadata": {},
   "outputs": [
    {
     "data": {
      "text/plain": [
       "['Joseph Owens ',\n",
       " 'Lamar Webster  ',\n",
       " ' Lester Garner ',\n",
       " ' Yvonne Perkins   ',\n",
       " 'Theodore Byrd']"
      ]
     },
     "execution_count": 7,
     "metadata": {},
     "output_type": "execute_result"
    }
   ],
   "source": [
    "names[:5]"
   ]
  },
  {
   "cell_type": "markdown",
   "metadata": {},
   "source": [
    "# List and String Practice\n",
    "Below look at the original style 1 example. Your first goal is to figure out what transformation to apply to each name in names in order to remove all that extra whitespace. Once you've done that, rewrite the code in the more pythonic list comprehension. To summarize:  \n",
    "* Clean up each name in the for loop\n",
    "* Rewrite the for loop as a list comprehension"
   ]
  },
  {
   "cell_type": "code",
   "execution_count": null,
   "metadata": {},
   "outputs": [],
   "source": [
    "#Style 1\n",
    "names2 = []\n",
    "for name in names:\n",
    "    new_name = #You code here; do something to name to clean it up \n",
    "    names2.append(new_name)"
   ]
  },
  {
   "cell_type": "code",
   "execution_count": null,
   "metadata": {},
   "outputs": [],
   "source": [
    "#Style 2: More Pythonic!\n",
    "names = [] #Your code here; rewrite the above code block as a List comprehension!"
   ]
  },
  {
   "cell_type": "markdown",
   "metadata": {},
   "source": [
    "# Extension\n",
    "Below, look at the code I used to add random whitespace to some entries in the list. The new code references a python math package called **numpy**. Traditionally, this is imported under the alias np; `import numpy as np`. The `np.random.rand()` method produces a random floating number between 0 and 1. Thus the conditional should apply to roughly 25% of cases. Similarly, the amount of whitespace added is a random integer between 1 and 4.  \n",
    "\n",
    "The **enumearte()** method is also demonstrated below. It is a very useful built in function that returns the index of the iterable. Thus the line `for n, name in enumerate(names)` will return 0, name[0] followed by 1, name[1] followed by 2, name[2], etc. As you can see, this is useful for getting surrounding elements later, where we can create a window view before or after the current element (Here `names[n-2:n+3]`).\n",
    "Review the code below and add additional comments describing what the various lines of code do. Be sure to review the *pop* and *insert* methods in particular."
   ]
  },
  {
   "cell_type": "code",
   "execution_count": 10,
   "metadata": {},
   "outputs": [
    {
     "name": "stdout",
     "output_type": "stream",
     "text": [
      "100\n",
      "Originally:\n",
      "['Billy Wallace   ', 'Jeremiah Burns   ', 'Heather Bridges', 'Shannon Ramirez', ' Jermaine Gibson']\n",
      "Now:\n",
      "['Billy Wallace   ', 'Jeremiah Burns   ', 'Heather Bridges ', 'Shannon Ramirez', ' Jermaine Gibson']\n",
      "Item updated: Heather Bridges to Heather Bridges \n",
      "\n",
      "\n",
      "Originally:\n",
      "['Heather Bridges ', 'Shannon Ramirez', ' Jermaine Gibson', 'Lance Thompson', 'Frankie Clarke']\n",
      "Now:\n",
      "['Heather Bridges ', 'Shannon Ramirez', ' Jermaine Gibson  ', 'Lance Thompson', 'Frankie Clarke']\n",
      "Item updated:  Jermaine Gibson to  Jermaine Gibson  \n",
      "\n",
      "\n",
      "Originally:\n",
      "[' Kimberly Weave ', 'Gabriel Murphy', 'Mabel Fleming ', 'Ignacio Thornton  ', 'Lauren Fields  ']\n",
      "Now:\n",
      "[' Kimberly Weave ', 'Gabriel Murphy', 'Mabel Fleming   ', 'Ignacio Thornton  ', 'Lauren Fields  ']\n",
      "Item updated: Mabel Fleming  to Mabel Fleming   \n",
      "\n",
      "\n",
      "100\n"
     ]
    }
   ],
   "source": [
    "#Here's how I made the data a messier!\n",
    "#Warning: rerunning this will continue to muck up the data\n",
    "import numpy as np\n",
    "\n",
    "print(len(names))\n",
    "print_count = 0\n",
    "for n, name in enumerate(names):\n",
    "    if np.random.rand() < .25:\n",
    "        if print_count < 3:\n",
    "            print('Originally:')\n",
    "            print(names[n-2:n+3])\n",
    "        old = names.pop(n)\n",
    "        new = old + ' '*np.random.randint(1,4)\n",
    "        names.insert(n, new)\n",
    "        if print_count < 3:\n",
    "            print('Now:')\n",
    "            print(names[n-2:n+3])\n",
    "            print('Item updated: {} to {}'.format(old,new))\n",
    "            print('\\n')\n",
    "            print_count += 1\n",
    "print(len(names))"
   ]
  },
  {
   "cell_type": "markdown",
   "metadata": {},
   "source": [
    "## DIY\n",
    "Create your own loop similar above to make a messy (but reversible) data *noiser*. Then write and apply a function that would remove that noise and clean the data."
   ]
  },
  {
   "cell_type": "code",
   "execution_count": null,
   "metadata": {},
   "outputs": [],
   "source": []
  }
 ],
 "metadata": {
  "kernelspec": {
   "display_name": "Python 3",
   "language": "python",
   "name": "python3"
  },
  "language_info": {
   "codemirror_mode": {
    "name": "ipython",
    "version": 3
   },
   "file_extension": ".py",
   "mimetype": "text/x-python",
   "name": "python",
   "nbconvert_exporter": "python",
   "pygments_lexer": "ipython3",
   "version": "3.6.5"
  }
 },
 "nbformat": 4,
 "nbformat_minor": 2
}
